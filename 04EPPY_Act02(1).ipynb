{
 "cells": [
  {
   "cell_type": "markdown",
   "id": "31ffaa68",
   "metadata": {},
   "source": [
    "<img src=\"../img/viu_logo.png\" width=\"200\">\n",
    "\n",
    "## 04EPPY - Actividad 2\n",
    "\n",
    "25% de la Nota Final\n",
    "\n",
    "### Fecha Entrega\n",
    "- Convocatoria 1 - 31/03/2022\n",
    "- Convocatoria 2 - 07/04/2022\n",
    "\n",
    "### Instrucciones:\n",
    "- Crear un notebook de Python3 que servirá como entrega de la actividad.\n",
    "- Separar bien los apartados propuestos con celdas Markdown.\n",
    "- Mantener una estructura limpia, comentando código y secuenciando los apartados con el código correspondiente que resuelva la actividad.\n",
    "- Como criterio de evaluación se tendrá en cuenta el resultado, la consecución del mismo, estilo, comentarios y adecuación.\n",
    "- No está permitido compartir los resultados ni el código en ninguno de los foros.\n",
    "\n",
    "### Entrega:\n",
    "- Un solo documento en formato notebook: .ipynb\n",
    "- Para hacer la entrega hay que subir el notebook al repositorio en la actividad de blackboard."
   ]
  },
  {
   "cell_type": "markdown",
   "id": "acc1f5f5",
   "metadata": {},
   "source": [
    "# Olympics"
   ]
  },
  {
   "cell_type": "markdown",
   "id": "96ebe415",
   "metadata": {},
   "source": [
    "### A1 - Leer Datasets - 10%\n",
    "- En Kaggle existen dos datasets sobre las olimpiadas modernas\n",
    "  - Atletas y resultados de medallas, desde 1896 a 2016, https://www.kaggle.com/heesoo37/120-years-of-olympic-history-athletes-and-results\n",
    "  - Resultados de atletismo, desde 1896 a 2016, https://www.kaggle.com/jayrav13/olympic-track-field-results\n",
    "  \n",
    "- Obtener y leer los ficheros csv en dataframes de pandas"
   ]
  },
  {
   "cell_type": "markdown",
   "id": "e652ade9-1f7b-4c04-89d0-3cdede39cdac",
   "metadata": {},
   "source": [
    "#### Instalar paquete de API de Kaggle"
   ]
  },
  {
   "cell_type": "code",
   "execution_count": 2,
   "id": "9fe25752-74cd-4805-bbb0-c56dbd189bb6",
   "metadata": {
    "tags": []
   },
   "outputs": [
    {
     "name": "stdout",
     "output_type": "stream",
     "text": [
      "Requirement already satisfied: kaggle in c:\\users\\n29\\appdata\\local\\programs\\python\\python311\\lib\\site-packages (1.5.13)Note: you may need to restart the kernel to use updated packages.\n",
      "\n",
      "Requirement already satisfied: six>=1.10 in c:\\users\\n29\\appdata\\roaming\\python\\python311\\site-packages (from kaggle) (1.16.0)\n",
      "Requirement already satisfied: certifi in c:\\users\\n29\\appdata\\roaming\\python\\python311\\site-packages (from kaggle) (2022.12.7)\n",
      "Requirement already satisfied: python-dateutil in c:\\users\\n29\\appdata\\roaming\\python\\python311\\site-packages (from kaggle) (2.8.2)\n",
      "Requirement already satisfied: requests in c:\\users\\n29\\appdata\\local\\programs\\python\\python311\\lib\\site-packages (from kaggle) (2.28.2)\n",
      "Requirement already satisfied: tqdm in c:\\users\\n29\\appdata\\local\\programs\\python\\python311\\lib\\site-packages (from kaggle) (4.65.0)\n",
      "Requirement already satisfied: python-slugify in c:\\users\\n29\\appdata\\local\\programs\\python\\python311\\lib\\site-packages (from kaggle) (8.0.1)\n",
      "Requirement already satisfied: urllib3 in c:\\users\\n29\\appdata\\local\\programs\\python\\python311\\lib\\site-packages (from kaggle) (1.26.15)\n",
      "Requirement already satisfied: text-unidecode>=1.3 in c:\\users\\n29\\appdata\\local\\programs\\python\\python311\\lib\\site-packages (from python-slugify->kaggle) (1.3)\n",
      "Requirement already satisfied: charset-normalizer<4,>=2 in c:\\users\\n29\\appdata\\local\\programs\\python\\python311\\lib\\site-packages (from requests->kaggle) (3.1.0)\n",
      "Requirement already satisfied: idna<4,>=2.5 in c:\\users\\n29\\appdata\\local\\programs\\python\\python311\\lib\\site-packages (from requests->kaggle) (3.4)\n",
      "Requirement already satisfied: colorama in c:\\users\\n29\\appdata\\roaming\\python\\python311\\site-packages (from tqdm->kaggle) (0.4.6)\n"
     ]
    }
   ],
   "source": [
    "pip install kaggle"
   ]
  },
  {
   "cell_type": "code",
   "execution_count": 2,
   "id": "50059406-1c89-42bb-b635-8c1991ff90ab",
   "metadata": {
    "tags": []
   },
   "outputs": [],
   "source": [
    "#Importar paquetes para usar en la actividad\n",
    "import numpy as np\n",
    "import pandas as pd\n",
    "import zipfile as zp\n",
    "import os"
   ]
  },
  {
   "cell_type": "code",
   "execution_count": 27,
   "id": "e7780bb0-6c88-453e-aebe-d72f7e3842fc",
   "metadata": {
    "tags": []
   },
   "outputs": [],
   "source": [
    "#Autenticacion con Kaggle API\n",
    "os.environ['KAGGLE_USERNAME'] = \"jmejiasb\"\n",
    "os.environ['KAGGLE_KEY'] = \"782634d4517fd0263297f09bf847ecad\"\n",
    "\n",
    "from kaggle.api.kaggle_api_extended import KaggleApi\n",
    "api = KaggleApi()\n",
    "api.authenticate()"
   ]
  },
  {
   "cell_type": "code",
   "execution_count": 40,
   "id": "3030741d-e5f5-4249-bfae-c2c0637e7098",
   "metadata": {
    "tags": []
   },
   "outputs": [],
   "source": [
    "#Descargar zip de archivos con API de Kaggle\n",
    "#Para descargar usando el Kaggle API se debe usar el link del dataset (la url de kaggle despues de \"www.kaggle.com/\") y la ruta donde guardar el archivo zip\n",
    "route = os.path.join(\"res\")\n",
    "api.dataset_download_files(\"heesoo37/120-years-of-olympic-history-athletes-and-results\", path = route)\n",
    "api.dataset_download_files(\"jayrav13/olympic-track-field-results\", path = route)"
   ]
  },
  {
   "cell_type": "code",
   "execution_count": 42,
   "id": "dfe597bf-6be8-4c1c-b0f1-40c83349abd5",
   "metadata": {
    "tags": []
   },
   "outputs": [
    {
     "name": "stdout",
     "output_type": "stream",
     "text": [
      "Extracting all files...\n",
      "Done!\n",
      "Extracting all files...\n",
      "Done!\n"
     ]
    }
   ],
   "source": [
    "#Extraer archivos zip de los dataset en su respectiva carpeta\n",
    "\n",
    "#120 years of olympic history: athletes and results\n",
    "with zp.ZipFile(\"res/120-years-of-olympic-history-athletes-and-results.zip\") as zipp:\n",
    "    print('Extracting all files...') \n",
    "    zipp.extractall(os.path.join(\"res\",\"120_years_olympic_history\")) \n",
    "    print('Done!')\n",
    "    \n",
    "#Olympic track field results\n",
    "with zp.ZipFile(\"res/olympic-track-field-results.zip\") as zipp:\n",
    "    print('Extracting all files...') \n",
    "    zipp.extractall(os.path.join(\"res\",\"olympic-track-field-results\")) \n",
    "    print('Done!')"
   ]
  },
  {
   "cell_type": "code",
   "execution_count": 3,
   "id": "9451e96f-e6e2-495b-9f46-0c12b67e8927",
   "metadata": {
    "tags": []
   },
   "outputs": [
    {
     "data": {
      "text/html": [
       "<div>\n",
       "<style scoped>\n",
       "    .dataframe tbody tr th:only-of-type {\n",
       "        vertical-align: middle;\n",
       "    }\n",
       "\n",
       "    .dataframe tbody tr th {\n",
       "        vertical-align: top;\n",
       "    }\n",
       "\n",
       "    .dataframe thead th {\n",
       "        text-align: right;\n",
       "    }\n",
       "</style>\n",
       "<table border=\"1\" class=\"dataframe\">\n",
       "  <thead>\n",
       "    <tr style=\"text-align: right;\">\n",
       "      <th></th>\n",
       "      <th>ID</th>\n",
       "      <th>Name</th>\n",
       "      <th>Sex</th>\n",
       "      <th>Age</th>\n",
       "      <th>Height</th>\n",
       "      <th>Weight</th>\n",
       "      <th>Team</th>\n",
       "      <th>NOC</th>\n",
       "      <th>Games</th>\n",
       "      <th>Year</th>\n",
       "      <th>Season</th>\n",
       "      <th>City</th>\n",
       "      <th>Sport</th>\n",
       "      <th>Event</th>\n",
       "      <th>Medal</th>\n",
       "    </tr>\n",
       "  </thead>\n",
       "  <tbody>\n",
       "    <tr>\n",
       "      <th>175024</th>\n",
       "      <td>87936</td>\n",
       "      <td>Pierre Ochs</td>\n",
       "      <td>M</td>\n",
       "      <td>25.0</td>\n",
       "      <td>171.0</td>\n",
       "      <td>72.0</td>\n",
       "      <td>France</td>\n",
       "      <td>FRA</td>\n",
       "      <td>2010 Winter</td>\n",
       "      <td>2010</td>\n",
       "      <td>Winter</td>\n",
       "      <td>Vancouver</td>\n",
       "      <td>Freestyle Skiing</td>\n",
       "      <td>Freestyle Skiing Men's Moguls</td>\n",
       "      <td>NaN</td>\n",
       "    </tr>\n",
       "    <tr>\n",
       "      <th>1835</th>\n",
       "      <td>1015</td>\n",
       "      <td>Conrad Adriaenssens</td>\n",
       "      <td>M</td>\n",
       "      <td>49.0</td>\n",
       "      <td>NaN</td>\n",
       "      <td>NaN</td>\n",
       "      <td>Belgium</td>\n",
       "      <td>BEL</td>\n",
       "      <td>1920 Summer</td>\n",
       "      <td>1920</td>\n",
       "      <td>Summer</td>\n",
       "      <td>Antwerpen</td>\n",
       "      <td>Shooting</td>\n",
       "      <td>Shooting Men's Military Rifle, Prone, 300 metr...</td>\n",
       "      <td>NaN</td>\n",
       "    </tr>\n",
       "    <tr>\n",
       "      <th>261051</th>\n",
       "      <td>130636</td>\n",
       "      <td>Madeleine Williams</td>\n",
       "      <td>F</td>\n",
       "      <td>26.0</td>\n",
       "      <td>163.0</td>\n",
       "      <td>55.0</td>\n",
       "      <td>Canada</td>\n",
       "      <td>CAN</td>\n",
       "      <td>2010 Winter</td>\n",
       "      <td>2010</td>\n",
       "      <td>Winter</td>\n",
       "      <td>Vancouver</td>\n",
       "      <td>Cross Country Skiing</td>\n",
       "      <td>Cross Country Skiing Women's 4 x 5 kilometres ...</td>\n",
       "      <td>NaN</td>\n",
       "    </tr>\n",
       "    <tr>\n",
       "      <th>35015</th>\n",
       "      <td>18040</td>\n",
       "      <td>Joaqun Capilla Prez</td>\n",
       "      <td>M</td>\n",
       "      <td>19.0</td>\n",
       "      <td>168.0</td>\n",
       "      <td>NaN</td>\n",
       "      <td>Mexico</td>\n",
       "      <td>MEX</td>\n",
       "      <td>1948 Summer</td>\n",
       "      <td>1948</td>\n",
       "      <td>Summer</td>\n",
       "      <td>London</td>\n",
       "      <td>Diving</td>\n",
       "      <td>Diving Men's Platform</td>\n",
       "      <td>Bronze</td>\n",
       "    </tr>\n",
       "    <tr>\n",
       "      <th>243436</th>\n",
       "      <td>121918</td>\n",
       "      <td>Pavel Sergeyevich Trikhichev</td>\n",
       "      <td>M</td>\n",
       "      <td>21.0</td>\n",
       "      <td>177.0</td>\n",
       "      <td>74.0</td>\n",
       "      <td>Russia</td>\n",
       "      <td>RUS</td>\n",
       "      <td>2014 Winter</td>\n",
       "      <td>2014</td>\n",
       "      <td>Winter</td>\n",
       "      <td>Sochi</td>\n",
       "      <td>Alpine Skiing</td>\n",
       "      <td>Alpine Skiing Men's Super G</td>\n",
       "      <td>NaN</td>\n",
       "    </tr>\n",
       "  </tbody>\n",
       "</table>\n",
       "</div>"
      ],
      "text/plain": [
       "            ID                          Name Sex   Age  Height  Weight  \\\n",
       "175024   87936                   Pierre Ochs   M  25.0   171.0    72.0   \n",
       "1835      1015           Conrad Adriaenssens   M  49.0     NaN     NaN   \n",
       "261051  130636            Madeleine Williams   F  26.0   163.0    55.0   \n",
       "35015    18040           Joaqun Capilla Prez   M  19.0   168.0     NaN   \n",
       "243436  121918  Pavel Sergeyevich Trikhichev   M  21.0   177.0    74.0   \n",
       "\n",
       "           Team  NOC        Games  Year  Season       City  \\\n",
       "175024   France  FRA  2010 Winter  2010  Winter  Vancouver   \n",
       "1835    Belgium  BEL  1920 Summer  1920  Summer  Antwerpen   \n",
       "261051   Canada  CAN  2010 Winter  2010  Winter  Vancouver   \n",
       "35015    Mexico  MEX  1948 Summer  1948  Summer     London   \n",
       "243436   Russia  RUS  2014 Winter  2014  Winter      Sochi   \n",
       "\n",
       "                       Sport  \\\n",
       "175024      Freestyle Skiing   \n",
       "1835                Shooting   \n",
       "261051  Cross Country Skiing   \n",
       "35015                 Diving   \n",
       "243436         Alpine Skiing   \n",
       "\n",
       "                                                    Event   Medal  \n",
       "175024                      Freestyle Skiing Men's Moguls     NaN  \n",
       "1835    Shooting Men's Military Rifle, Prone, 300 metr...     NaN  \n",
       "261051  Cross Country Skiing Women's 4 x 5 kilometres ...     NaN  \n",
       "35015                               Diving Men's Platform  Bronze  \n",
       "243436                        Alpine Skiing Men's Super G     NaN  "
      ]
     },
     "execution_count": 3,
     "metadata": {},
     "output_type": "execute_result"
    }
   ],
   "source": [
    "#Guardar csv en su respectivo DataFrame\n",
    "\n",
    "#120 years of olympic history: athletes and result\n",
    "olympic_history_route = os.path.join(\"res\",\"120_years_olympic_history\",\"athlete_events.csv\")\n",
    "\n",
    "\n",
    "olympic_history = pd.read_csv(olympic_history_route, engine=\"python\", header=0)\n",
    "\n",
    "olympic_history.sample(5)"
   ]
  },
  {
   "cell_type": "code",
   "execution_count": 4,
   "id": "787e4963-db64-41fd-9da5-ac6b8372d36f",
   "metadata": {
    "tags": []
   },
   "outputs": [],
   "source": [
    "#Track field results\n",
    "olympic_track_field_route = os.path.join(\"res\",\"olympic-track-field-results\",\"results.csv\")\n",
    "\n",
    "#Al intentar leer el csv lanza error ya que algunos valores de la columna \"Results\" tienen una coma de mas (ie. \",+0.1\") y lo toma como una nueva columna\n",
    "olympic_track_field = pd.read_csv(olympic_track_field_route, engine=\"python\", header=0) #ParserError"
   ]
  },
  {
   "cell_type": "code",
   "execution_count": 5,
   "id": "d7ce7f80-d911-4455-8c68-5e3158ebff3c",
   "metadata": {
    "tags": []
   },
   "outputs": [
    {
     "data": {
      "text/html": [
       "<div>\n",
       "<style scoped>\n",
       "    .dataframe tbody tr th:only-of-type {\n",
       "        vertical-align: middle;\n",
       "    }\n",
       "\n",
       "    .dataframe tbody tr th {\n",
       "        vertical-align: top;\n",
       "    }\n",
       "\n",
       "    .dataframe thead th {\n",
       "        text-align: right;\n",
       "    }\n",
       "</style>\n",
       "<table border=\"1\" class=\"dataframe\">\n",
       "  <thead>\n",
       "    <tr style=\"text-align: right;\">\n",
       "      <th></th>\n",
       "      <th>Gender</th>\n",
       "      <th>Event</th>\n",
       "      <th>Location</th>\n",
       "      <th>Year</th>\n",
       "      <th>Medal</th>\n",
       "      <th>Name</th>\n",
       "      <th>Nationality</th>\n",
       "      <th>Result</th>\n",
       "    </tr>\n",
       "  </thead>\n",
       "  <tbody>\n",
       "    <tr>\n",
       "      <th>309</th>\n",
       "      <td>M</td>\n",
       "      <td>1500M Men</td>\n",
       "      <td>Athens</td>\n",
       "      <td>1896</td>\n",
       "      <td>G</td>\n",
       "      <td>Edwin FLACK</td>\n",
       "      <td>AUS</td>\n",
       "      <td>4:33.2</td>\n",
       "    </tr>\n",
       "    <tr>\n",
       "      <th>680</th>\n",
       "      <td>M</td>\n",
       "      <td>4X100M Relay Men</td>\n",
       "      <td>Montreal</td>\n",
       "      <td>1976</td>\n",
       "      <td>S</td>\n",
       "      <td>NaN</td>\n",
       "      <td>GDR</td>\n",
       "      <td>38.66</td>\n",
       "    </tr>\n",
       "    <tr>\n",
       "      <th>1237</th>\n",
       "      <td>M</td>\n",
       "      <td>High Jump Men</td>\n",
       "      <td>Athens</td>\n",
       "      <td>2004</td>\n",
       "      <td>B</td>\n",
       "      <td>Jaroslav BABA</td>\n",
       "      <td>CZE</td>\n",
       "      <td>2.34</td>\n",
       "    </tr>\n",
       "    <tr>\n",
       "      <th>542</th>\n",
       "      <td>M</td>\n",
       "      <td>400M Hurdles Men</td>\n",
       "      <td>Amsterdam</td>\n",
       "      <td>1928</td>\n",
       "      <td>B</td>\n",
       "      <td>Morgan TAYLOR</td>\n",
       "      <td>USA</td>\n",
       "      <td>53.6</td>\n",
       "    </tr>\n",
       "    <tr>\n",
       "      <th>1848</th>\n",
       "      <td>W</td>\n",
       "      <td>3000M Steeplechase Women</td>\n",
       "      <td>Beijing</td>\n",
       "      <td>2008</td>\n",
       "      <td>G</td>\n",
       "      <td>Gulnara SAMITOVA</td>\n",
       "      <td>RUS</td>\n",
       "      <td>8:58.81</td>\n",
       "    </tr>\n",
       "  </tbody>\n",
       "</table>\n",
       "</div>"
      ],
      "text/plain": [
       "     Gender                     Event   Location  Year Medal  \\\n",
       "309       M                 1500M Men     Athens  1896     G   \n",
       "680       M          4X100M Relay Men   Montreal  1976     S   \n",
       "1237      M             High Jump Men     Athens  2004     B   \n",
       "542       M          400M Hurdles Men  Amsterdam  1928     B   \n",
       "1848      W  3000M Steeplechase Women    Beijing  2008     G   \n",
       "\n",
       "                  Name Nationality   Result  \n",
       "309        Edwin FLACK         AUS   4:33.2  \n",
       "680                NaN         GDR    38.66  \n",
       "1237     Jaroslav BABA         CZE     2.34  \n",
       "542      Morgan TAYLOR         USA     53.6  \n",
       "1848  Gulnara SAMITOVA         RUS  8:58.81  "
      ]
     },
     "execution_count": 5,
     "metadata": {},
     "output_type": "execute_result"
    }
   ],
   "source": [
    "#Para resolver este error se usa el parametro \"usecols\" para que solo tome en cuenta las primeras 8 columnas.\n",
    "olympic_track_field = pd.read_csv(olympic_track_field_route, engine=\"python\", header=0, usecols=range(8))\n",
    "\n",
    "olympic_track_field.sample(5)"
   ]
  },
  {
   "cell_type": "markdown",
   "id": "6c87165f",
   "metadata": {
    "tags": []
   },
   "source": [
    "### A2 - Análisis - 45%\n",
    "- Obtener un gráfico de barras con la evolución del número de deportes por año, eje X años, eje Y número de deportes\n",
    "![sports_per_year](res/sports_per_year.png)\n",
    "- Gráfico con la evolución de la participación femenina en las olimpiadas a lo largo de la historia, eje X años, eje Y número de atletas, para cada año una barra para cada sexo\n",
    "![sex](res/sex.png)\n",
    "- Gráfico con los 50 paises con más medallas en toda la historia, en cada barra el nombre completo del pais, longitud de cada barra, total de medallas obtenidas por pais\n",
    "![medallero](res/medallero.png)"
   ]
  },
  {
   "cell_type": "code",
   "execution_count": 7,
   "id": "597403b6-6b4c-46b6-8e4d-c2f4eb8e6c2d",
   "metadata": {
    "tags": []
   },
   "outputs": [
    {
     "data": {
      "text/html": [
       "<div>\n",
       "<style scoped>\n",
       "    .dataframe tbody tr th:only-of-type {\n",
       "        vertical-align: middle;\n",
       "    }\n",
       "\n",
       "    .dataframe tbody tr th {\n",
       "        vertical-align: top;\n",
       "    }\n",
       "\n",
       "    .dataframe thead th {\n",
       "        text-align: right;\n",
       "    }\n",
       "</style>\n",
       "<table border=\"1\" class=\"dataframe\">\n",
       "  <thead>\n",
       "    <tr style=\"text-align: right;\">\n",
       "      <th></th>\n",
       "      <th>ID</th>\n",
       "      <th>Name</th>\n",
       "      <th>Sex</th>\n",
       "      <th>Age</th>\n",
       "      <th>Height</th>\n",
       "      <th>Weight</th>\n",
       "      <th>Team</th>\n",
       "      <th>NOC</th>\n",
       "      <th>Games</th>\n",
       "      <th>Year</th>\n",
       "      <th>Season</th>\n",
       "      <th>City</th>\n",
       "      <th>Sport</th>\n",
       "      <th>Event</th>\n",
       "      <th>Medal</th>\n",
       "    </tr>\n",
       "  </thead>\n",
       "  <tbody>\n",
       "    <tr>\n",
       "      <th>60728</th>\n",
       "      <td>31101</td>\n",
       "      <td>Hanna Leonidivna Dzerkal</td>\n",
       "      <td>F</td>\n",
       "      <td>24.0</td>\n",
       "      <td>172.0</td>\n",
       "      <td>57.0</td>\n",
       "      <td>Ukraine</td>\n",
       "      <td>UKR</td>\n",
       "      <td>2012 Summer</td>\n",
       "      <td>2012</td>\n",
       "      <td>Summer</td>\n",
       "      <td>London</td>\n",
       "      <td>Swimming</td>\n",
       "      <td>Swimming Women's 200 metres Breaststroke</td>\n",
       "      <td>NaN</td>\n",
       "    </tr>\n",
       "    <tr>\n",
       "      <th>109102</th>\n",
       "      <td>55171</td>\n",
       "      <td>Emma Karolina Johansson</td>\n",
       "      <td>F</td>\n",
       "      <td>28.0</td>\n",
       "      <td>168.0</td>\n",
       "      <td>54.0</td>\n",
       "      <td>Sweden</td>\n",
       "      <td>SWE</td>\n",
       "      <td>2012 Summer</td>\n",
       "      <td>2012</td>\n",
       "      <td>Summer</td>\n",
       "      <td>London</td>\n",
       "      <td>Cycling</td>\n",
       "      <td>Cycling Women's Road Race, Individual</td>\n",
       "      <td>NaN</td>\n",
       "    </tr>\n",
       "    <tr>\n",
       "      <th>50452</th>\n",
       "      <td>25955</td>\n",
       "      <td>Anne Catherine Jeanne Ghislain de Borman (de S...</td>\n",
       "      <td>F</td>\n",
       "      <td>39.0</td>\n",
       "      <td>NaN</td>\n",
       "      <td>NaN</td>\n",
       "      <td>Belgium</td>\n",
       "      <td>BEL</td>\n",
       "      <td>1920 Summer</td>\n",
       "      <td>1920</td>\n",
       "      <td>Summer</td>\n",
       "      <td>Antwerpen</td>\n",
       "      <td>Tennis</td>\n",
       "      <td>Tennis Women's Singles</td>\n",
       "      <td>NaN</td>\n",
       "    </tr>\n",
       "    <tr>\n",
       "      <th>216581</th>\n",
       "      <td>108744</td>\n",
       "      <td>Eino Seppl</td>\n",
       "      <td>M</td>\n",
       "      <td>27.0</td>\n",
       "      <td>177.0</td>\n",
       "      <td>65.0</td>\n",
       "      <td>Finland</td>\n",
       "      <td>FIN</td>\n",
       "      <td>1924 Summer</td>\n",
       "      <td>1924</td>\n",
       "      <td>Summer</td>\n",
       "      <td>Paris</td>\n",
       "      <td>Athletics</td>\n",
       "      <td>Athletics Men's 5,000 metres</td>\n",
       "      <td>NaN</td>\n",
       "    </tr>\n",
       "    <tr>\n",
       "      <th>211869</th>\n",
       "      <td>106382</td>\n",
       "      <td>Neville Merwyn Sayers</td>\n",
       "      <td>M</td>\n",
       "      <td>29.0</td>\n",
       "      <td>177.0</td>\n",
       "      <td>71.0</td>\n",
       "      <td>Australia</td>\n",
       "      <td>AUS</td>\n",
       "      <td>1956 Summer</td>\n",
       "      <td>1956</td>\n",
       "      <td>Summer</td>\n",
       "      <td>Melbourne</td>\n",
       "      <td>Modern Pentathlon</td>\n",
       "      <td>Modern Pentathlon Men's Individual</td>\n",
       "      <td>NaN</td>\n",
       "    </tr>\n",
       "  </tbody>\n",
       "</table>\n",
       "</div>"
      ],
      "text/plain": [
       "            ID                                               Name Sex   Age  \\\n",
       "60728    31101                           Hanna Leonidivna Dzerkal   F  24.0   \n",
       "109102   55171                            Emma Karolina Johansson   F  28.0   \n",
       "50452    25955  Anne Catherine Jeanne Ghislain de Borman (de S...   F  39.0   \n",
       "216581  108744                                         Eino Seppl   M  27.0   \n",
       "211869  106382                              Neville Merwyn Sayers   M  29.0   \n",
       "\n",
       "        Height  Weight       Team  NOC        Games  Year  Season       City  \\\n",
       "60728    172.0    57.0    Ukraine  UKR  2012 Summer  2012  Summer     London   \n",
       "109102   168.0    54.0     Sweden  SWE  2012 Summer  2012  Summer     London   \n",
       "50452      NaN     NaN    Belgium  BEL  1920 Summer  1920  Summer  Antwerpen   \n",
       "216581   177.0    65.0    Finland  FIN  1924 Summer  1924  Summer      Paris   \n",
       "211869   177.0    71.0  Australia  AUS  1956 Summer  1956  Summer  Melbourne   \n",
       "\n",
       "                    Sport                                     Event Medal  \n",
       "60728            Swimming  Swimming Women's 200 metres Breaststroke   NaN  \n",
       "109102            Cycling     Cycling Women's Road Race, Individual   NaN  \n",
       "50452              Tennis                    Tennis Women's Singles   NaN  \n",
       "216581          Athletics              Athletics Men's 5,000 metres   NaN  \n",
       "211869  Modern Pentathlon        Modern Pentathlon Men's Individual   NaN  "
      ]
     },
     "execution_count": 7,
     "metadata": {},
     "output_type": "execute_result"
    }
   ],
   "source": [
    "#A partir de 1992 los juegos olimpicos de invierno se hacen con dos años de diferencia. \n",
    "#Para que todo el grafico quede en intervalos de 4 años, se hace una list comprehension para cambiar estos años de juegos de invierno a los años de los juegos de verano\n",
    "olympic_history[\"Year\"] = [x+2 if x % 4 != 0 else x for x in olympic_history[\"Year\"]]\n",
    "\n",
    "olympic_history.sample(5)"
   ]
  },
  {
   "cell_type": "markdown",
   "id": "5cc2586c-f978-4461-b44b-cb284077d40f",
   "metadata": {
    "tags": []
   },
   "source": [
    "#### - Obtener un gráfico de barras con la evolución del número de deportes por año, eje X años, eje Y número de deportes"
   ]
  },
  {
   "cell_type": "code",
   "execution_count": 10,
   "id": "bb2c4233-d1a5-4e3b-85c8-461639cc3619",
   "metadata": {
    "tags": []
   },
   "outputs": [
    {
     "data": {
      "text/html": [
       "<div>\n",
       "<style scoped>\n",
       "    .dataframe tbody tr th:only-of-type {\n",
       "        vertical-align: middle;\n",
       "    }\n",
       "\n",
       "    .dataframe tbody tr th {\n",
       "        vertical-align: top;\n",
       "    }\n",
       "\n",
       "    .dataframe thead th {\n",
       "        text-align: right;\n",
       "    }\n",
       "</style>\n",
       "<table border=\"1\" class=\"dataframe\">\n",
       "  <thead>\n",
       "    <tr style=\"text-align: right;\">\n",
       "      <th></th>\n",
       "      <th>Year</th>\n",
       "      <th>Sport</th>\n",
       "    </tr>\n",
       "  </thead>\n",
       "  <tbody>\n",
       "    <tr>\n",
       "      <th>0</th>\n",
       "      <td>1992</td>\n",
       "      <td>Basketball</td>\n",
       "    </tr>\n",
       "    <tr>\n",
       "      <th>1</th>\n",
       "      <td>2012</td>\n",
       "      <td>Judo</td>\n",
       "    </tr>\n",
       "    <tr>\n",
       "      <th>2</th>\n",
       "      <td>1920</td>\n",
       "      <td>Football</td>\n",
       "    </tr>\n",
       "    <tr>\n",
       "      <th>3</th>\n",
       "      <td>1900</td>\n",
       "      <td>Tug-Of-War</td>\n",
       "    </tr>\n",
       "    <tr>\n",
       "      <th>4</th>\n",
       "      <td>1988</td>\n",
       "      <td>Speed Skating</td>\n",
       "    </tr>\n",
       "  </tbody>\n",
       "</table>\n",
       "</div>"
      ],
      "text/plain": [
       "   Year          Sport\n",
       "0  1992     Basketball\n",
       "1  2012           Judo\n",
       "2  1920       Football\n",
       "3  1900     Tug-Of-War\n",
       "4  1988  Speed Skating"
      ]
     },
     "execution_count": 10,
     "metadata": {},
     "output_type": "execute_result"
    }
   ],
   "source": [
    "#Filtrar el numero de deportes y el año en que se hizo, debido a que cada deporte tiene varios eventos se eliminan los duplicados\n",
    "sports_per_year = olympic_history[[\"Year\",\"Sport\"]].drop_duplicates()\n",
    "\n",
    "sports_per_year.head(5)"
   ]
  },
  {
   "cell_type": "code",
   "execution_count": 11,
   "id": "b82bab05-632b-4e4d-b992-53ffd9549aca",
   "metadata": {
    "tags": []
   },
   "outputs": [
    {
     "data": {
      "text/html": [
       "<div>\n",
       "<style scoped>\n",
       "    .dataframe tbody tr th:only-of-type {\n",
       "        vertical-align: middle;\n",
       "    }\n",
       "\n",
       "    .dataframe tbody tr th {\n",
       "        vertical-align: top;\n",
       "    }\n",
       "\n",
       "    .dataframe thead th {\n",
       "        text-align: right;\n",
       "    }\n",
       "</style>\n",
       "<table border=\"1\" class=\"dataframe\">\n",
       "  <thead>\n",
       "    <tr style=\"text-align: right;\">\n",
       "      <th></th>\n",
       "      <th>Year</th>\n",
       "      <th>Sport</th>\n",
       "    </tr>\n",
       "  </thead>\n",
       "  <tbody>\n",
       "    <tr>\n",
       "      <th>0</th>\n",
       "      <td>1896</td>\n",
       "      <td>9</td>\n",
       "    </tr>\n",
       "    <tr>\n",
       "      <th>1</th>\n",
       "      <td>1900</td>\n",
       "      <td>20</td>\n",
       "    </tr>\n",
       "    <tr>\n",
       "      <th>2</th>\n",
       "      <td>1904</td>\n",
       "      <td>18</td>\n",
       "    </tr>\n",
       "    <tr>\n",
       "      <th>3</th>\n",
       "      <td>1908</td>\n",
       "      <td>25</td>\n",
       "    </tr>\n",
       "    <tr>\n",
       "      <th>4</th>\n",
       "      <td>1912</td>\n",
       "      <td>17</td>\n",
       "    </tr>\n",
       "  </tbody>\n",
       "</table>\n",
       "</div>"
      ],
      "text/plain": [
       "   Year  Sport\n",
       "0  1896      9\n",
       "1  1900     20\n",
       "2  1904     18\n",
       "3  1908     25\n",
       "4  1912     17"
      ]
     },
     "execution_count": 11,
     "metadata": {},
     "output_type": "execute_result"
    }
   ],
   "source": [
    "#Se agrupa por año y se usa el metodo count() para saber el numero de deportes por año\n",
    "sports_per_year = sports_per_year.groupby(\"Year\", as_index=False).count()\n",
    "\n",
    "sports_per_year.head(5)"
   ]
  },
  {
   "cell_type": "code",
   "execution_count": 12,
   "id": "567d5fbd-ffe5-49cd-83e6-14fa38263427",
   "metadata": {
    "tags": []
   },
   "outputs": [
    {
     "data": {
      "image/png": "[encoded data removed]",
      "text/plain": [
       "<Figure size 2000x800 with 1 Axes>"
      ]
     },
     "metadata": {},
     "output_type": "display_data"
    }
   ],
   "source": [
    "#Crear grafico de barras\n",
    "import matplotlib.pyplot as plt\n",
    "import seaborn as sns\n",
    "\n",
    "sport_per_year_plot = sns.barplot(data=sports_per_year, x=sports_per_year[\"Year\"], y=sports_per_year[\"Sport\"], palette=\"Spectral\")\n",
    "\n",
    "#Modificar parametros del grafico para hacerlo mas presentable\n",
    "sport_per_year_plot.figure.set_figwidth(20)\n",
    "sport_per_year_plot.figure.set_figheight(8)\n",
    "sport_per_year_plot.set_title(\"Numero de deportes por Juego Olimpico\", fontsize=20)\n",
    "sport_per_year_plot.set_xlabel(\"Años\", fontsize=15)\n",
    "sport_per_year_plot.set_ylabel(\"N° de Deportes\", fontsize=15)\n",
    "plt.tight_layout()\n",
    "\n",
    "#Mostrar grafico\n",
    "plt.show()\n"
   ]
  },
  {
   "cell_type": "markdown",
   "id": "d1dfd633-d618-44c5-a55b-2ae9f69b3a29",
   "metadata": {},
   "source": [
    "#### - Gráfico con la evolución de la participación femenina en las olimpiadas a lo largo de la historia, eje X años, eje Y número de atletas, para cada año una barra para cada sexo "
   ]
  },
  {
   "cell_type": "code",
   "execution_count": 43,
   "id": "fc0ca13e-c673-41d9-b9d5-08e31254e59a",
   "metadata": {
    "tags": []
   },
   "outputs": [
    {
     "ename": "TypeError",
     "evalue": "GroupBy.count() takes 1 positional argument but 2 were given",
     "output_type": "error",
     "traceback": [
      "\u001b[1;31m---------------------------------------------------------------------------\u001b[0m",
      "\u001b[1;31mTypeError\u001b[0m                                 Traceback (most recent call last)",
      "Cell \u001b[1;32mIn[43], line 2\u001b[0m\n\u001b[0;32m      1\u001b[0m \u001b[38;5;66;03m#Filtrar el nombre, año y sexo de cada participante\u001b[39;00m\n\u001b[1;32m----> 2\u001b[0m women_per_year \u001b[38;5;241m=\u001b[39m \u001b[43molympic_history\u001b[49m\u001b[43m[\u001b[49m\u001b[43m[\u001b[49m\u001b[38;5;124;43m\"\u001b[39;49m\u001b[38;5;124;43mSex\u001b[39;49m\u001b[38;5;124;43m\"\u001b[39;49m\u001b[43m,\u001b[49m\u001b[38;5;124;43m\"\u001b[39;49m\u001b[38;5;124;43mYear\u001b[39;49m\u001b[38;5;124;43m\"\u001b[39;49m\u001b[43m]\u001b[49m\u001b[43m]\u001b[49m\u001b[38;5;241;43m.\u001b[39;49m\u001b[43mgroupby\u001b[49m\u001b[43m(\u001b[49m\u001b[43m[\u001b[49m\u001b[38;5;124;43m\"\u001b[39;49m\u001b[38;5;124;43mSex\u001b[39;49m\u001b[38;5;124;43m\"\u001b[39;49m\u001b[43m,\u001b[49m\u001b[43m \u001b[49m\u001b[38;5;124;43m\"\u001b[39;49m\u001b[38;5;124;43mYear\u001b[39;49m\u001b[38;5;124;43m\"\u001b[39;49m\u001b[43m]\u001b[49m\u001b[43m,\u001b[49m\u001b[43m \u001b[49m\u001b[43mas_index\u001b[49m\u001b[38;5;241;43m=\u001b[39;49m\u001b[38;5;28;43;01mFalse\u001b[39;49;00m\u001b[43m)\u001b[49m\u001b[38;5;241;43m.\u001b[39;49m\u001b[43mcount\u001b[49m\u001b[43m(\u001b[49m\u001b[38;5;124;43m\"\u001b[39;49m\u001b[38;5;124;43mName\u001b[39;49m\u001b[38;5;124;43m\"\u001b[39;49m\u001b[43m)\u001b[49m\n\u001b[0;32m      4\u001b[0m display(women_per_year)\n",
      "\u001b[1;31mTypeError\u001b[0m: GroupBy.count() takes 1 positional argument but 2 were given"
     ]
    }
   ],
   "source": [
    "#Filtrar el nombre, año y sexo de cada participante\n",
    "women_per_year = olympic_history[[\"Sex\",\"Year\"]].groupby([\"Sex\", \"Year\"], as_index=False).count(\"Name\")\n",
    "\n",
    "display(women_per_year)"
   ]
  },
  {
   "cell_type": "code",
   "execution_count": 38,
   "id": "594a3dab-a029-4d45-aaef-d51223923f2b",
   "metadata": {
    "tags": []
   },
   "outputs": [
    {
     "ename": "AttributeError",
     "evalue": "'DataFrameGroupBy' object has no attribute 'groupby'",
     "output_type": "error",
     "traceback": [
      "\u001b[1;31m---------------------------------------------------------------------------\u001b[0m",
      "\u001b[1;31mAttributeError\u001b[0m                            Traceback (most recent call last)",
      "Cell \u001b[1;32mIn[38], line 2\u001b[0m\n\u001b[0;32m      1\u001b[0m \u001b[38;5;66;03m#Agrupar por sexo y año. Contar cuantos participantes hay de cada sexo\u001b[39;00m\n\u001b[1;32m----> 2\u001b[0m women_per_year \u001b[38;5;241m=\u001b[39m \u001b[43mwomen_per_year\u001b[49m\u001b[38;5;241;43m.\u001b[39;49m\u001b[43mgroupby\u001b[49m([[\u001b[38;5;124m\"\u001b[39m\u001b[38;5;124mYear\u001b[39m\u001b[38;5;124m\"\u001b[39m],[\u001b[38;5;124m\"\u001b[39m\u001b[38;5;124mSex\u001b[39m\u001b[38;5;124m\"\u001b[39m]], as_index\u001b[38;5;241m=\u001b[39m\u001b[38;5;28;01mFalse\u001b[39;00m)\u001b[38;5;241m.\u001b[39mcount()\n\u001b[0;32m      4\u001b[0m women_per_year\u001b[38;5;241m.\u001b[39msample(\u001b[38;5;241m5\u001b[39m)\n",
      "File \u001b[1;32m~\\AppData\\Local\\Programs\\Python\\Python311\\Lib\\site-packages\\pandas\\core\\groupby\\groupby.py:987\u001b[0m, in \u001b[0;36mGroupBy.__getattr__\u001b[1;34m(self, attr)\u001b[0m\n\u001b[0;32m    984\u001b[0m \u001b[38;5;28;01mif\u001b[39;00m attr \u001b[38;5;129;01min\u001b[39;00m \u001b[38;5;28mself\u001b[39m\u001b[38;5;241m.\u001b[39mobj:\n\u001b[0;32m    985\u001b[0m     \u001b[38;5;28;01mreturn\u001b[39;00m \u001b[38;5;28mself\u001b[39m[attr]\n\u001b[1;32m--> 987\u001b[0m \u001b[38;5;28;01mraise\u001b[39;00m \u001b[38;5;167;01mAttributeError\u001b[39;00m(\n\u001b[0;32m    988\u001b[0m     \u001b[38;5;124mf\u001b[39m\u001b[38;5;124m\"\u001b[39m\u001b[38;5;124m'\u001b[39m\u001b[38;5;132;01m{\u001b[39;00m\u001b[38;5;28mtype\u001b[39m(\u001b[38;5;28mself\u001b[39m)\u001b[38;5;241m.\u001b[39m\u001b[38;5;18m__name__\u001b[39m\u001b[38;5;132;01m}\u001b[39;00m\u001b[38;5;124m'\u001b[39m\u001b[38;5;124m object has no attribute \u001b[39m\u001b[38;5;124m'\u001b[39m\u001b[38;5;132;01m{\u001b[39;00mattr\u001b[38;5;132;01m}\u001b[39;00m\u001b[38;5;124m'\u001b[39m\u001b[38;5;124m\"\u001b[39m\n\u001b[0;32m    989\u001b[0m )\n",
      "\u001b[1;31mAttributeError\u001b[0m: 'DataFrameGroupBy' object has no attribute 'groupby'"
     ]
    }
   ],
   "source": [
    "#Agrupar por sexo y año. Contar cuantos participantes hay de cada sexo\n",
    "women_per_year = women_per_year.groupby([[\"Year\"],[\"Sex\"]], as_index=False).count()\n",
    "\n",
    "women_per_year.sample(5)"
   ]
  },
  {
   "cell_type": "markdown",
   "id": "7918d9b7",
   "metadata": {},
   "source": [
    "### A3 - Machine Learning - 45%\n",
    "\n",
    "- Crear un modelo capaz de predecir el tiempo que va a hacer un atleta en la prueba de los 100 metros lisos, en función de su edad, sexo, peso y altura.\n",
    "![model](res/model.png)"
   ]
  }
 ],
 "metadata": {
  "kernelspec": {
   "display_name": "Python 3 (ipykernel)",
   "language": "python",
   "name": "python3"
  },
  "language_info": {
   "codemirror_mode": {
    "name": "ipython",
    "version": 3
   },
   "file_extension": ".py",
   "mimetype": "text/x-python",
   "name": "python",
   "nbconvert_exporter": "python",
   "pygments_lexer": "ipython3",
   "version": "3.11.1"
  }
 },
 "nbformat": 4,
 "nbformat_minor": 5
}
